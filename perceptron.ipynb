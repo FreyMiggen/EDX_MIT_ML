{
 "cells": [
  {
   "cell_type": "code",
   "execution_count": 2,
   "id": "c42f3bf8-1075-4502-a6a7-5747bcb57dbe",
   "metadata": {
    "tags": []
   },
   "outputs": [],
   "source": [
    "import numpy as np"
   ]
  },
  {
   "cell_type": "code",
   "execution_count": 3,
   "id": "bedccc23-3a81-446b-bf58-756207a0218a",
   "metadata": {
    "tags": []
   },
   "outputs": [
    {
     "name": "stdin",
     "output_type": "stream",
     "text": [
      "Please enter the number of datapoints:  3\n",
      "Please enter the dimension of your datapoint (one integer only):  2\n",
      "Enter data point :  -1 -1\n",
      "Enter data point :  1 0\n",
      "Enter data point :  -1 2\n",
      "If you only want go-through-origin decision line, enter Yes, otherwise No:  Yes\n",
      "Enter labels:  1 -1 1\n",
      "Where you want to start the iteration, starting from 0:  0\n"
     ]
    }
   ],
   "source": [
    "# input data \n",
    "N=int(input('Please enter the number of datapoints: '))\n",
    "D=int(input('Please enter the dimension of your datapoint (one integer only): '))\n",
    "data=np.zeros((N,D))\n",
    "for i in range(N):\n",
    "    temp = [int(item) for item in input(\"Enter data point : \").split(' ')]\n",
    "    data[i]=temp\n",
    "\n",
    "origin=input('If you only want go-through-origin decision line, enter Yes, otherwise No: ')\n",
    "labels=np.array([int(item) for item in input('Enter labels: ').split(' ')])\n",
    "s_data=int(input('Where you want to start the iteration, starting from 0: '))"
   ]
  },
  {
   "cell_type": "code",
   "execution_count": 5,
   "id": "36597f1e-e3b0-4370-8f14-5885dda7772b",
   "metadata": {
    "tags": []
   },
   "outputs": [],
   "source": [
    "#Initialize theta and theta_0 to 0\n",
    "theta=np.zeros(D,)\n",
    "theta_0=0"
   ]
  },
  {
   "cell_type": "code",
   "execution_count": 7,
   "id": "fe5aaa40-ccd2-42a0-b738-32e38cc75b80",
   "metadata": {
    "tags": []
   },
   "outputs": [
    {
     "name": "stdout",
     "output_type": "stream",
     "text": [
      "count : 1\n",
      "theta:  [-1. -1.]\n",
      "count : 3\n",
      "theta:  [-2.  1.]\n"
     ]
    }
   ],
   "source": [
    "check=True\n",
    "#s_data=int(input('Where you want to start the iteration, starting from 0: '))\n",
    "count=0\n",
    "count_error=0\n",
    "if origin=='No':\n",
    "    while check:\n",
    "        \n",
    "        count+=1\n",
    "\n",
    "        if labels[s_data]*(np.dot(data[s_data],theta)+theta_0)<=0:\n",
    "            count_error+=1\n",
    "            theta+=labels[s_data]*data[s_data]\n",
    "            theta_0+=labels[s_data]\n",
    "            \n",
    "            print('count :',count)\n",
    "            print('theta: ',theta)\n",
    "        loss=(np.matmul(data,theta)+labels)*labels\n",
    "        check=np.any(loss<=0)\n",
    "  \n",
    "        s_data=(s_data+1)%N\n",
    "else:\n",
    "    while check: \n",
    "        count+=1\n",
    "\n",
    "        if labels[s_data]*(np.dot(data[s_data],theta))<=0:\n",
    "            count_error+=1\n",
    "            theta+=labels[s_data]*data[s_data]\n",
    "            \n",
    "            print('count :',count)\n",
    "            print('theta: ',theta)\n",
    "        loss=np.matmul(data,theta)*labels\n",
    "        check=np.any(loss<=0)\n",
    "  \n",
    "        s_data=(s_data+1)%N"
   ]
  },
  {
   "cell_type": "code",
   "execution_count": null,
   "id": "de463d08-e792-402e-ae10-67dc7cabab3d",
   "metadata": {},
   "outputs": [],
   "source": []
  }
 ],
 "metadata": {
  "kernelspec": {
   "display_name": "Python 3 (ipykernel)",
   "language": "python",
   "name": "python3"
  },
  "language_info": {
   "codemirror_mode": {
    "name": "ipython",
    "version": 3
   },
   "file_extension": ".py",
   "mimetype": "text/x-python",
   "name": "python",
   "nbconvert_exporter": "python",
   "pygments_lexer": "ipython3",
   "version": "3.10.12"
  }
 },
 "nbformat": 4,
 "nbformat_minor": 5
}
